{
 "cells": [
  {
   "cell_type": "markdown",
   "metadata": {},
   "source": [
    "# Assignment 1: Pandas, Probabilities and other ML basics\n",
    "\n",
    "## What you will learn\n",
    "\n",
    "* Setting up the environment for rest of the course\n",
    "* Hands on with Pandas library and Matplotlib\n",
    "* Inferencing the data\n",
    "* Bayes's theorem\n",
    "\n",
    "## Setup\n",
    "\n",
    "* Download [Anaconda Python 3.6](https://www.anaconda.com/download/) for consistent environment.\n",
    "* If you use pip environment then make sure your code is compatible with versions of libraries provided withing Anaconda's Python 3.6 distribution.\n",
    "* In the first tutorial, everyone did a survey, for this assignment we will utilize survey results as the dataset to perform various inferences.\n",
    "\n",
    "## Submission\n",
    "* Do not change any variable/function names.\n",
    "* Just add your own code and don't change existing code\n",
    "* Save this file and rename it to be **studentid_lastname.ipynb** (student id (underscore) last name.ipynb)\n",
    "* Submit only single .ipynb file to learn (no zip or .py files or anything else)\n",
    "* If you happen to use any external library not included in Anaconda (mention in **Submission Notes** section below)"
   ]
  },
  {
   "cell_type": "markdown",
   "metadata": {},
   "source": [
    "## Submission Notes\n",
    "(Please write any notes here that you think I should know during marking)"
   ]
  },
  {
   "cell_type": "markdown",
   "metadata": {},
   "source": [
    "## Tasks [100 marks]\n",
    "\n",
    "### [Already Done] Task 1: Read the dataset [10 marks] \n",
    "You can use `read_csv` function from `pandas` library for reading CSV file.\n",
    "\n",
    "You can show the data by simply writing the variable."
   ]
  },
  {
   "cell_type": "code",
   "execution_count": 1,
   "metadata": {},
   "outputs": [
    {
     "data": {
      "text/html": [
       "<div>\n",
       "<style>\n",
       "    .dataframe thead tr:only-child th {\n",
       "        text-align: right;\n",
       "    }\n",
       "\n",
       "    .dataframe thead th {\n",
       "        text-align: left;\n",
       "    }\n",
       "\n",
       "    .dataframe tbody tr th {\n",
       "        vertical-align: top;\n",
       "    }\n",
       "</style>\n",
       "<table border=\"1\" class=\"dataframe\">\n",
       "  <thead>\n",
       "    <tr style=\"text-align: right;\">\n",
       "      <th></th>\n",
       "      <th>dept</th>\n",
       "      <th>degree_type</th>\n",
       "      <th>lang</th>\n",
       "      <th>movie</th>\n",
       "    </tr>\n",
       "  </thead>\n",
       "  <tbody>\n",
       "    <tr>\n",
       "      <th>0</th>\n",
       "      <td>SYD</td>\n",
       "      <td>Graduate</td>\n",
       "      <td>Python</td>\n",
       "      <td>Back to the Future Franchise</td>\n",
       "    </tr>\n",
       "    <tr>\n",
       "      <th>1</th>\n",
       "      <td>ECE</td>\n",
       "      <td>Graduate</td>\n",
       "      <td>C/C++</td>\n",
       "      <td>The Lord of the Rings (Trilogy)</td>\n",
       "    </tr>\n",
       "    <tr>\n",
       "      <th>2</th>\n",
       "      <td>SYD</td>\n",
       "      <td>Undergrad</td>\n",
       "      <td>Python</td>\n",
       "      <td>Other</td>\n",
       "    </tr>\n",
       "    <tr>\n",
       "      <th>3</th>\n",
       "      <td>SYD</td>\n",
       "      <td>Undergrad</td>\n",
       "      <td>Python</td>\n",
       "      <td>Harry Potter Franchise</td>\n",
       "    </tr>\n",
       "    <tr>\n",
       "      <th>4</th>\n",
       "      <td>SYD</td>\n",
       "      <td>Undergrad</td>\n",
       "      <td>Python</td>\n",
       "      <td>Harry Potter Franchise</td>\n",
       "    </tr>\n",
       "    <tr>\n",
       "      <th>...</th>\n",
       "      <td>...</td>\n",
       "      <td>...</td>\n",
       "      <td>...</td>\n",
       "      <td>...</td>\n",
       "    </tr>\n",
       "    <tr>\n",
       "      <th>48</th>\n",
       "      <td>Mechatronics</td>\n",
       "      <td>Undergrad</td>\n",
       "      <td>C/C++</td>\n",
       "      <td>The Lord of the Rings (Trilogy)</td>\n",
       "    </tr>\n",
       "    <tr>\n",
       "      <th>49</th>\n",
       "      <td>SYD</td>\n",
       "      <td>Graduate</td>\n",
       "      <td>Matlab</td>\n",
       "      <td>Harry Potter Franchise</td>\n",
       "    </tr>\n",
       "    <tr>\n",
       "      <th>50</th>\n",
       "      <td>SYD</td>\n",
       "      <td>Graduate</td>\n",
       "      <td>C/C++</td>\n",
       "      <td>Star Wars Franchise</td>\n",
       "    </tr>\n",
       "    <tr>\n",
       "      <th>51</th>\n",
       "      <td>Mechatronics</td>\n",
       "      <td>Undergrad</td>\n",
       "      <td>Python</td>\n",
       "      <td>Star Wars Franchise</td>\n",
       "    </tr>\n",
       "    <tr>\n",
       "      <th>52</th>\n",
       "      <td>SYD</td>\n",
       "      <td>Graduate</td>\n",
       "      <td>Python</td>\n",
       "      <td>Star Wars Franchise</td>\n",
       "    </tr>\n",
       "  </tbody>\n",
       "</table>\n",
       "<p>53 rows × 4 columns</p>\n",
       "</div>"
      ],
      "text/plain": [
       "            dept degree_type    lang                            movie\n",
       "0   SYD           Graduate    Python  Back to the Future Franchise   \n",
       "1   ECE           Graduate    C/C++   The Lord of the Rings (Trilogy)\n",
       "2   SYD           Undergrad   Python  Other                          \n",
       "3   SYD           Undergrad   Python  Harry Potter Franchise         \n",
       "4   SYD           Undergrad   Python  Harry Potter Franchise         \n",
       "..  ...                 ...      ...                     ...         \n",
       "48  Mechatronics  Undergrad   C/C++   The Lord of the Rings (Trilogy)\n",
       "49  SYD           Graduate    Matlab  Harry Potter Franchise         \n",
       "50  SYD           Graduate    C/C++   Star Wars Franchise            \n",
       "51  Mechatronics  Undergrad   Python  Star Wars Franchise            \n",
       "52  SYD           Graduate    Python  Star Wars Franchise            \n",
       "\n",
       "[53 rows x 4 columns]"
      ]
     },
     "execution_count": 1,
     "metadata": {},
     "output_type": "execute_result"
    }
   ],
   "source": [
    "import pandas as pd\n",
    "\n",
    "data = pd.read_csv('./survey_data.csv')\n",
    "\n",
    "# better naming\n",
    "data.columns = ['time', 'dept', 'degree_type', 'lang', 'movie']\n",
    "\n",
    "# Don't need time axis\n",
    "data = data.drop('time', axis=1)\n",
    "\n",
    "# I missed Mechatronics people..oops!\n",
    "data.dept[ data.dept == 'Other']= 'Mechatronics'\n",
    "\n",
    "# Only two PhD. combine them into same category\n",
    "data.degree_type[ data.degree_type == 'Graduate (PhD.)']= 'Graduate'\n",
    "data.degree_type[ data.degree_type == 'Graduate (Masters)'] = 'Graduate'\n",
    "\n",
    "# Show the data\n",
    "pd.set_option('display.max_colwidth', -1)\n",
    "pd.set_option('display.max_rows', 10)\n",
    "\n",
    "# show the DataFrame\n",
    "data"
   ]
  },
  {
   "cell_type": "markdown",
   "metadata": {},
   "source": [
    "## Task 2: Fill in three functions below [40 marks]\n",
    "\n",
    "Plotting function `plot_stats()` is coded for the convenience."
   ]
  },
  {
   "cell_type": "code",
   "execution_count": 52,
   "metadata": {
    "collapsed": true
   },
   "outputs": [],
   "source": [
    "import matplotlib.pyplot as plt\n",
    "# to draw plots in the notebook itself\n",
    "%matplotlib inline\n",
    "\n",
    "def dept_stats(data):\n",
    "    \"\"\"\n",
    "    Input: `data` DataFrame object\n",
    "    Returns: dictionary object with keys as unique dept and their total count\n",
    "    \"\"\"\n",
    "    # It should return something like this:\n",
    "    #{\n",
    "    #    'SYD': 34,\n",
    "    #    'ECE': 12,\n",
    "    #    'Mechatronics': 32\n",
    "    #}\n",
    "    \n",
    "    # Make sure you write the code to do that and not just hard coded values\n",
    "    \n",
    "    # My testing data will be different from one provided to you \n",
    "    # and will result in no marks    \n",
    "    pass\n",
    "\n",
    "def degree_type_stat(data):\n",
    "    \"\"\"\n",
    "    Input: data\n",
    "    Returns: dictionary object with key as degree type and their total count\n",
    "    \"\"\"\n",
    "    pass\n",
    "\n",
    "def lang_stat(data):\n",
    "    \"\"\"\n",
    "    Input: data\n",
    "    Returns: dictionary object with key as language and their total count\n",
    "    \"\"\"\n",
    "    pass\n",
    "\n",
    "def movie_stat(data):\n",
    "    \"\"\"\n",
    "    Input: data\n",
    "    Returns: dictionary object with key as movie name and their total count\n",
    "    \"\"\"\n",
    "    pass\n",
    "\n",
    "def plot_pie(dictd):\n",
    "    # Draw the pie chart\n",
    "    plt.pie(dictd.values(), labels=dictd.keys(), autopct='%.0f%%', startangle=90)\n",
    "    plt.axis('equal')\n",
    "    \n",
    "def plot_stats():    \n",
    "    \n",
    "    plt.subplot(2, 2, 1)\n",
    "    plot_pie(dept_stats(data))\n",
    "    \n",
    "    plt.subplot(2, 2, 2)\n",
    "    plot_pie(degree_type_stat(data))\n",
    "    \n",
    "    plt.subplot(2, 2, 3)\n",
    "    plot_pie(lang_stat(data))\n",
    "    \n",
    "    \n",
    "    plt.subplot(2, 2, 4)\n",
    "    plot_pie(movie_stat(data))\n",
    "\n",
    "plot_stats()"
   ]
  },
  {
   "cell_type": "markdown",
   "metadata": {},
   "source": [
    "## Task 3:  Bayesian Inference [50 Marks]\n",
    "\n",
    "Recall, according to Bayes's theorem:\n",
    "\n",
    "\n",
    "$P(A|B) = \\frac{P(B|A)*P(A)}{P(B)}$\n",
    "\n",
    "\n",
    "Now, we need to find:\n",
    "\n",
    "What is probability that randomly selected student is `Graduate` student if she\\he likes `C/C++` language and `Star Wars` movie? Let's say condition of anyone liking `C/C++` and `Star Wars` is `C` then we need to find:\n",
    "\n",
    "$P(X=Graduate|C)$ \n",
    "\n",
    "which can be calculated by finding fraction of graduate who satisfy condition $C$.\n",
    "\n",
    "But in this section we will try to verify Bayes's theorem which states:\n",
    "\n",
    "$P(X=Graduate|C) = \\frac{P(C|X=Graduate)*P(X=Graduate)}{P(C)}$\n",
    "\n",
    "You can now find:\n",
    "* $P(X=Graduate)$: Just calculate total number of graduates in the class (recall this prior prob)\n",
    "* $P(C|X=Graduate)$: Fraction of `Star Wars` and `C\\C++` fan who are graduate (recall this is likelihood)\n",
    "* $P(C)$: Fraction of total people who like `Star Wars` and `C/C++`\n",
    "\n",
    "Now find, probability of following statements?\n",
    "\n",
    "1. What is probability that random student is undergrad?\n",
    "2. What is the probability that random student likes C\\C++ and not a Star War fan?\n",
    "3. What is the probability that **undergrad** student likes C\\C++ and not a Star War fan?\n",
    "4. What is the probability that a given student who likes C\\C++ but not a Star War fan is an undergrad student? (Apply Bayes theorem on answers from 1., 2. and 3.)\n",
    "5. Further verify 4. by manually finding it (not using Bayes's theorem)\n"
   ]
  },
  {
   "cell_type": "code",
   "execution_count": null,
   "metadata": {
    "collapsed": true
   },
   "outputs": [],
   "source": [
    "# populate this array to values corresponding to above 5 questions\n",
    "# do not change the name of the variable\n",
    "probs = [None, None, None, None, None]"
   ]
  },
  {
   "cell_type": "markdown",
   "metadata": {},
   "source": [
    "## Task 4: Bonus (5 extra marks only if loose above)\n",
    "\n",
    "**Note:** Max you can score is still 100. But if you loose something above you can compensate here.\n",
    "\n",
    "Do any interesting inferencing with the data on hand.\n",
    "\n",
    "Perhaps find some interesting patterns? or plot some interesting visualizations.\n",
    "\n",
    "For example: People who like C\\C++ are likely LOTR fans? (just an example)\n",
    "\n",
    "This is just for you to play with the data. There is no marking scheme for this question. If I like your work, you may get good in this section."
   ]
  },
  {
   "cell_type": "code",
   "execution_count": 2,
   "metadata": {
    "collapsed": true
   },
   "outputs": [],
   "source": [
    "# Do anything intresting this data here\n",
    "# visualization\n",
    "# explore some patterns\n",
    "# etc"
   ]
  }
 ],
 "metadata": {
  "_draft": {
   "nbviewer_url": "https://gist.github.com/e5df3985cd4ea889f0d22ab189770e6e"
  },
  "gist": {
   "data": {
    "description": "projects/SYDE-522/Tutorials/Assignments/Assignment 1/Tutorial Assignment 1.ipynb",
    "public": false
   },
   "id": "e5df3985cd4ea889f0d22ab189770e6e"
  },
  "kernelspec": {
   "display_name": "Python 3",
   "language": "python",
   "name": "python3"
  },
  "language_info": {
   "codemirror_mode": {
    "name": "ipython",
    "version": 3
   },
   "file_extension": ".py",
   "mimetype": "text/x-python",
   "name": "python",
   "nbconvert_exporter": "python",
   "pygments_lexer": "ipython3",
   "version": "3.6.3"
  },
  "latex_envs": {
   "LaTeX_envs_menu_present": true,
   "autocomplete": true,
   "bibliofile": "biblio.bib",
   "cite_by": "apalike",
   "current_citInitial": 1,
   "eqLabelWithNumbers": true,
   "eqNumInitial": 1,
   "hotkeys": {
    "equation": "Ctrl-E",
    "itemize": "Ctrl-I"
   },
   "labels_anchors": false,
   "latex_user_defs": false,
   "report_style_numbering": false,
   "user_envs_cfg": false
  },
  "varInspector": {
   "cols": {
    "lenName": 16,
    "lenType": 16,
    "lenVar": 40
   },
   "kernels_config": {
    "python": {
     "delete_cmd_postfix": "",
     "delete_cmd_prefix": "del ",
     "library": "var_list.py",
     "varRefreshCmd": "print(var_dic_list())"
    },
    "r": {
     "delete_cmd_postfix": ") ",
     "delete_cmd_prefix": "rm(",
     "library": "var_list.r",
     "varRefreshCmd": "cat(var_dic_list()) "
    }
   },
   "types_to_exclude": [
    "module",
    "function",
    "builtin_function_or_method",
    "instance",
    "_Feature"
   ],
   "window_display": false
  }
 },
 "nbformat": 4,
 "nbformat_minor": 2
}
